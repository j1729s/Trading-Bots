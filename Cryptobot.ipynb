{
 "cells": [
  {
   "cell_type": "markdown",
   "id": "0afa03f7-c0c5-43fc-90ac-040c43af8417",
   "metadata": {},
   "source": [
    "# Crypto Trading Bot"
   ]
  },
  {
   "cell_type": "markdown",
   "id": "fcde540f-dc71-4987-8065-b9817ccf22aa",
   "metadata": {},
   "source": [
    "We'll start with importing the required packages."
   ]
  },
  {
   "cell_type": "code",
   "execution_count": 1,
   "id": "f1e66017-b8ab-41a4-aa2e-cc1395b5f745",
   "metadata": {},
   "outputs": [],
   "source": [
    "import websocket # to access binance websocket\n",
    "import json # to load a JSON string into a dictionary\n",
    "import numpy as np # to convert the prices list to an array\n",
    "import talib # to get the RSI calculations\n",
    "import time # to wonder what time is! the fourth dimension, Einstein? AYE, Bohr!"
   ]
  },
  {
   "cell_type": "code",
   "execution_count": 2,
   "id": "66b849dd-f407-4a82-93e8-3b929a417aa3",
   "metadata": {},
   "outputs": [],
   "source": [
    "from binance.enums import * # we need these to place an order with binance\n",
    "from binance.client import Client"
   ]
  },
  {
   "cell_type": "markdown",
   "id": "63da0189-0bc6-4fad-b625-792e99bdcd6a",
   "metadata": {},
   "source": [
    "We'll also need the API key and the API secret to connect to the server and place the order. So we import the required constants."
   ]
  },
  {
   "cell_type": "code",
   "execution_count": 3,
   "id": "b3068008-cefe-4066-801a-11550352a596",
   "metadata": {},
   "outputs": [],
   "source": [
    "from secrets import API_KEY\n",
    "from secrets import API_SECRET"
   ]
  },
  {
   "cell_type": "markdown",
   "id": "ca61fc4a-4486-4fd7-8caa-ec90aa5544af",
   "metadata": {},
   "source": [
    "We'll start by defining the symbol for the cryptocurrency we want to trade and the quantitity we want to trade."
   ]
  },
  {
   "cell_type": "code",
   "execution_count": 4,
   "id": "b9ed6d6d-c5d5-4cf5-a6c3-f12a87fd4125",
   "metadata": {},
   "outputs": [],
   "source": [
    "TRADE_SYMBOL = 'ETHUSDT'"
   ]
  },
  {
   "cell_type": "markdown",
   "id": "1b9dbeac-409e-4418-a56b-335845e24c7b",
   "metadata": {},
   "source": [
    "Next we'll use websockets to get the data to build our candlestick graphs. We're focusing on short term data in this project so we'll create a stream with an interval of 1 minute, i.e., 1m. It's easier to show how the wrokings of the bot if we use short term data"
   ]
  },
  {
   "cell_type": "code",
   "execution_count": 5,
   "id": "f23e1844-e65e-4c12-af01-64706e6f3c5b",
   "metadata": {},
   "outputs": [],
   "source": [
    "INTERVAL_PERIOD = '1m'"
   ]
  },
  {
   "cell_type": "markdown",
   "id": "8e86007b-98ef-41a8-a7db-8ba753a84ccf",
   "metadata": {},
   "source": [
    "We'll need to create our socket URL. Looking through the Binance websocket documentation page at https://github.com/binance/binance-spot-api-docs/blob/master/web-socket-streams.md we find the base endpoint is: wss://stream.binance.com:9443 and that raw streams are accessed at /ws/<streamName>. So, we need the stream name that gets us candlestick graphs which is /symbol@kline_interval. Leading to the socket:"
   ]
  },
  {
   "cell_type": "code",
   "execution_count": 6,
   "id": "4621345b-cff9-4df5-8f2d-b3231827595c",
   "metadata": {},
   "outputs": [],
   "source": [
    "SOCKET = f'wss://stream.binance.com:9443/ws/{TRADE_SYMBOL.lower()}@kline_{INTERVAL_PERIOD}'"
   ]
  },
  {
   "cell_type": "markdown",
   "id": "e0fdf7ad-0a1e-44e6-adbd-20269cd9bbf2",
   "metadata": {},
   "source": [
    "Now let's creat a client and do a trial run."
   ]
  },
  {
   "cell_type": "markdown",
   "id": "94014807-5cbe-4599-beec-d282d5054835",
   "metadata": {},
   "source": [
    "## Testing our Websocket Client:"
   ]
  },
  {
   "cell_type": "markdown",
   "id": "774a2dd3-1144-4bda-94a7-ade3b4f103be",
   "metadata": {},
   "source": [
    "We'll need to define the parameters for the client to call. We can simply visit the websocket_client python documentation page for a template of this code."
   ]
  },
  {
   "cell_type": "code",
   "execution_count": 7,
   "id": "ebfc7495-7a18-4c39-959b-4b0a33c371bf",
   "metadata": {},
   "outputs": [
    {
     "name": "stdout",
     "output_type": "stream",
     "text": [
      "on_open() takes 0 positional arguments but 1 was given\n",
      "on_message() takes 0 positional arguments but 2 were given\n",
      "\n",
      "on_close() takes 0 positional arguments but 3 were given\n"
     ]
    },
    {
     "data": {
      "text/plain": [
       "False"
      ]
     },
     "execution_count": 7,
     "metadata": {},
     "output_type": "execute_result"
    }
   ],
   "source": [
    "def on_open():\n",
    "    print('open connection')\n",
    "    \n",
    "def on_close():\n",
    "    print('closed connection')\n",
    "    \n",
    "def on_error(ws, error):\n",
    "    print(error)\n",
    "    \n",
    "def on_message():\n",
    "    print('received message')\n",
    "    \n",
    "ws = websocket.WebSocketApp(SOCKET, on_open=on_open, on_message=on_message, on_error=on_error, on_close=on_close)\n",
    "ws.run_forever()"
   ]
  },
  {
   "cell_type": "markdown",
   "id": "5a982401-8042-4fd8-b8af-0390e04a10f5",
   "metadata": {},
   "source": [
    "Well that gives us a False and a few error messages. We need to check the docuentation for websocket_client in python. Here's the link for that https://pypi.org/project/websocket-client/"
   ]
  },
  {
   "cell_type": "markdown",
   "id": "44704db2-6edc-4ac7-aa50-d1fc1ec301d6",
   "metadata": {},
   "source": [
    "We see that we're missing some positional arguments, so, we'll add them."
   ]
  },
  {
   "cell_type": "code",
   "execution_count": 8,
   "id": "5aed68ab-9d6e-4a9b-b0b5-71130e48b06f",
   "metadata": {},
   "outputs": [
    {
     "name": "stdout",
     "output_type": "stream",
     "text": [
      "open connection\n",
      "received message\n",
      "\n",
      "closed connection\n"
     ]
    },
    {
     "data": {
      "text/plain": [
       "False"
      ]
     },
     "execution_count": 8,
     "metadata": {},
     "output_type": "execute_result"
    }
   ],
   "source": [
    "def on_open(ws):\n",
    "    print('open connection')\n",
    "    \n",
    "def on_close(ws, close_status_code, close_msg):\n",
    "    print('closed connection')\n",
    "    \n",
    "def on_error(ws, error):\n",
    "    print(error)\n",
    "    \n",
    "def on_message(ws, message):\n",
    "    print('received message')\n",
    "    \n",
    "ws = websocket.WebSocketApp(SOCKET, on_open=on_open, on_message=on_message, on_error=on_error, on_close=on_close)\n",
    "ws.run_forever()"
   ]
  },
  {
   "cell_type": "markdown",
   "id": "84c3c389-4636-4a58-af47-1cd61514bb7a",
   "metadata": {},
   "source": [
    "## Parsing for data:"
   ]
  },
  {
   "cell_type": "markdown",
   "id": "f7c1bb6b-0b4f-41ed-b5f9-6a786840a4c4",
   "metadata": {},
   "source": [
    "We'll that works! So we can get the data now. We also need to parse the data for the close price of a each candlestick. We know by looking at the docs page that 'x': True indicates the end of a candlestick. So when 'x': True then we need 'c': close for each candlestick. We can do that by altering our `on_message` function whic handles the received messages."
   ]
  },
  {
   "cell_type": "code",
   "execution_count": 10,
   "id": "31ab9f57-05f4-4876-bdd7-5f75adcdcd70",
   "metadata": {},
   "outputs": [
    {
     "name": "stdout",
     "output_type": "stream",
     "text": [
      "open connection\n",
      "received message\n",
      "received message\n",
      "received message\n",
      "received message\n",
      "received message\n",
      "received message\n",
      "received message\n",
      "received message\n",
      "The candle closed at 1942.09000000\n",
      "\n",
      "closed connection\n"
     ]
    },
    {
     "data": {
      "text/plain": [
       "False"
      ]
     },
     "execution_count": 10,
     "metadata": {},
     "output_type": "execute_result"
    }
   ],
   "source": [
    "def on_open(ws):\n",
    "    print('open connection')\n",
    "    \n",
    "def on_close(ws, close_status_code, close_msg):\n",
    "    print('closed connection')\n",
    "    \n",
    "def on_error(ws, error):\n",
    "    print(error)\n",
    "    \n",
    "def on_message(ws, message):\n",
    "    print('received message')\n",
    "    json_message = json.loads(message)\n",
    "    candle = json_message['k']\n",
    "    is_candle_closed = candle['x']\n",
    "    if is_candle_closed:\n",
    "        print('The candle closed at {}'.format(candle['c']))\n",
    "        \n",
    "ws = websocket.WebSocketApp(SOCKET, on_open=on_open, on_message=on_message, on_error=on_error, on_close=on_close)\n",
    "ws.run_forever()"
   ]
  },
  {
   "cell_type": "markdown",
   "id": "659c7bac-fb21-4b8a-89be-6b9f5677d288",
   "metadata": {},
   "source": [
    "We'll save a series of all the closes to plot them later on if we so desire. So we create  a global variable for that."
   ]
  },
  {
   "cell_type": "code",
   "execution_count": 27,
   "id": "f682a4f3-d50d-46a2-abb5-3b2cf4dd54cd",
   "metadata": {},
   "outputs": [],
   "source": [
    "closes = []"
   ]
  },
  {
   "cell_type": "markdown",
   "id": "c79ad899-589c-4ff0-8633-b39cf61b6471",
   "metadata": {},
   "source": [
    "After collectting these closing prices we'll convert them into a numpy array and apply TA-Lib indicators on them. We'll redefine the functions for that. I'd also like to know for how long we recoreded the data. So, however this is not exact, but after messing with the time.localtime() function I realised that perf_counter would have a better look here. So, I'll use that as a reasonable approximation. Here are the redefined functions:"
   ]
  },
  {
   "cell_type": "code",
   "execution_count": 12,
   "id": "8a42d2d9-bfcf-4100-bd72-d44a3af6025a",
   "metadata": {},
   "outputs": [],
   "source": [
    "def on_open(ws):\n",
    "    global start_time\n",
    "    start_time = time.perf_counter()\n",
    "    print('Opened connection')\n",
    "    \n",
    "def on_close(ws, close_status_code, close_msg):\n",
    "    global stop_time\n",
    "    stop_time = time.perf_counter()\n",
    "    print('1 minute close prices list is: {}'.format(closes))\n",
    "    time_keeper() \n",
    "    \n",
    "def on_error(ws, error):\n",
    "    print(error)\n",
    "    \n",
    "def on_message(ws, message):\n",
    "    json_message = json.loads(message)\n",
    "    candle = json_message['k']\n",
    "    is_candle_closed = candle['x']\n",
    "    if is_candle_closed:\n",
    "        closes.append(float(candle['c']))\n",
    "        if len(closes)>14:\n",
    "            decide_trade(calculate_last_rsi()) \n",
    "        \n",
    "def time_keeper():\n",
    "    interval = round(stop_time-start_time)\n",
    "    seconds, interval_minutes = interval%60, interval//60\n",
    "    minutes, hours = interval_minutes%60, interval_minutes//60\n",
    "    print('Closed connection which ran for: {} hours, {} minutes, and {} seconds'.format(hours, minutes, seconds))\n",
    "    "
   ]
  },
  {
   "cell_type": "markdown",
   "id": "ff5145d8-0bad-49fe-90a7-62368846ca28",
   "metadata": {},
   "source": [
    "Let's run it! And leave it running for some time..."
   ]
  },
  {
   "cell_type": "code",
   "execution_count": 29,
   "id": "9110c848-34a1-463b-b53e-d37fdc1e202d",
   "metadata": {},
   "outputs": [
    {
     "name": "stdout",
     "output_type": "stream",
     "text": [
      "Opened connection\n",
      "\n",
      "1 minute close prices list is: [1982.48, 1984.43, 1983.93, 1985.26, 1985.58, 1985.58, 1984.8, 1982.84, 1981.76, 1978.5, 1977.67, 1979.83, 1979.93, 1981.08, 1981.65, 1982.39, 1983.69, 1983.89, 1984.0, 1981.87, 1983.37, 1982.55, 1980.72, 1980.92, 1981.12, 1981.86, 1981.73, 1984.09, 1982.82, 1986.52, 1986.74, 1987.66, 1991.23, 1990.49, 1991.16, 1992.75, 1993.22, 1992.19, 1990.66, 1987.67, 1984.59, 1986.9, 1988.41, 1987.29, 1986.38, 1985.11, 1983.65, 1983.51, 1985.25, 1982.95, 1984.42, 1982.42, 1980.66, 1981.01, 1981.11, 1980.53, 1981.61, 1982.5, 1981.54, 1979.02, 1980.85, 1981.49, 1982.1, 1984.0, 1983.36, 1984.33, 1983.36, 1983.19, 1984.02, 1985.49, 1985.87, 1985.39, 1986.62, 1986.5, 1988.03, 1988.28, 1988.1, 1988.99, 1987.99, 1988.01, 1988.0, 1989.69, 1990.23, 1990.15, 1989.72, 1988.51, 1989.69, 1991.92, 1991.9, 1992.92, 1990.7, 1990.11, 1988.57, 1989.5, 1988.58, 1991.56, 1991.0, 1992.11, 1991.76, 1990.79, 1990.95, 1988.87, 1989.0, 1989.61, 1989.29, 1989.4, 1991.31, 1990.23, 1988.52, 1987.17, 1985.42, 1986.09, 1987.87, 1988.25, 1986.92, 1986.99, 1986.46, 1985.42, 1986.69, 1984.95, 1985.9, 1989.39, 1991.15, 1993.29, 1994.42, 1992.23, 1993.55, 1993.02, 1993.07, 1990.75, 1989.04, 1987.95, 1988.76, 1987.77, 1987.35, 1987.19, 1988.03, 1989.79, 1989.11, 1988.76, 1987.71, 1986.39, 1987.23, 1987.77, 1988.67, 1989.62, 1987.19, 1987.5, 1989.07, 1990.67, 1992.29, 1990.68, 1990.11, 1987.97, 1988.04, 1987.92, 1987.78, 1988.1, 1990.67, 1990.4, 1990.2, 1991.23, 1990.89, 1989.42, 1991.42, 1991.44, 1991.85, 1991.99, 1993.15, 1993.27, 1992.89, 1993.01, 1993.47, 1992.71, 1993.05, 1993.12, 1993.54, 1995.2, 1995.91, 1996.2, 1995.31, 1994.29, 1997.67, 1996.9, 1997.65, 1997.03, 1996.16, 1997.96, 1998.84, 1999.06, 1997.72, 1996.49, 1995.49, 1994.27, 1995.62, 1994.2, 1993.91, 1995.0, 1995.18, 1996.49, 1997.36, 1998.12, 1998.32, 1996.8, 1997.32, 1999.68, 1997.77, 1996.78, 1996.2, 1997.72, 1999.38, 2002.19, 2000.76, 2000.1, 1999.75, 1998.88, 1998.89, 1999.59, 1999.84, 1999.96, 1999.19, 1996.93, 1996.67, 1995.23, 1996.8, 1996.17, 1994.77, 1995.26, 1992.44, 1988.09, 1988.07, 1986.56, 1988.37, 1987.01, 1988.72, 1990.83, 1989.77, 1986.64, 1986.0, 1985.19, 1983.46, 1985.48, 1982.87, 1985.56, 1985.58, 1986.17, 1981.2, 1981.25, 1978.12, 1978.41, 1978.92, 1980.39, 1977.21, 1979.31, 1980.19, 1981.44, 1979.61, 1980.35, 1980.11, 1979.9, 1980.68, 1978.83, 1980.66, 1983.0, 1983.84, 1983.67, 1984.89, 1983.31, 1982.04, 1982.7, 1983.01, 1981.83, 1983.34, 1983.7, 1983.09, 1982.82, 1981.55, 1979.72, 1980.01, 1981.69, 1983.87, 1983.03, 1982.33, 1982.53, 1980.98, 1982.19, 1982.71, 1981.5, 1980.91, 1980.79, 1980.64, 1978.92, 1979.37]\n",
      "Closed connection which ran for: 4 hours, 53 minutes, and 40 seconds\n"
     ]
    },
    {
     "data": {
      "text/plain": [
       "False"
      ]
     },
     "execution_count": 29,
     "metadata": {},
     "output_type": "execute_result"
    }
   ],
   "source": [
    "ws = websocket.WebSocketApp(SOCKET, on_open=on_open, on_message=on_message, on_error=on_error, on_close=on_close)\n",
    "ws.run_forever()"
   ]
  },
  {
   "cell_type": "markdown",
   "id": "27163bb7-8904-41ca-8f2d-7218e9e68f38",
   "metadata": {},
   "source": [
    "Now I understand I shoud have used Decimal for better accuracy, in the code above, instead of float. However, for numpy to work and for all the functions in TA-Lib to work we need the floating point representation on this one! We'll have to make do with the loss in precision."
   ]
  },
  {
   "cell_type": "markdown",
   "id": "42bb79a1-84e2-4f2c-9174-179dab089010",
   "metadata": {},
   "source": [
    "## The Relative Strength Index Indicator"
   ]
  },
  {
   "cell_type": "markdown",
   "id": "bfd4ef4c-301e-4d2a-961d-626fc1c28cc5",
   "metadata": {},
   "source": [
    "The Relative Strength Indicator (RSI) is a momentum indictor used in technical analysis. It measures the speed and magnitude of a security's recent price changes to evaluate overvalued or undervalued conditions in the price of that security. RSI is calculated using the formulae:"
   ]
  },
  {
   "cell_type": "markdown",
   "id": "cf3eb0c6-bf5e-484d-9b73-3e703e947d45",
   "metadata": {},
   "source": [
    "$$RSI = 100-\\frac{100}{1+RS}$$"
   ]
  },
  {
   "cell_type": "markdown",
   "id": "5d469a20-cd93-4c10-bddd-d78ebbb3ac07",
   "metadata": {},
   "source": [
    "where $RS=\\frac{\\text{avg. gain over n periods}}{\\text{avg. loss over n periods}}$"
   ]
  },
  {
   "cell_type": "markdown",
   "id": "9f0a66de-088a-437b-915f-bfe59a6b1eaa",
   "metadata": {},
   "source": [
    "Now we'll go about setting some constants for the RSI indicator. We'll use $n=\\text{15 minutes}$. An $RS=1\\implies RSI=50$ is a neutral market. If gains start overshadowing losses then $RS>1\\implies RSI>50$, demand and supply principles holding true we will assume this signifies an uptick in buying of the share. If losses start overshadowing gains then $RS<1\\implies RSI<50$, we will assume this signifies an uptick in selling of the share. We'll set the RSI lower limit and upper limit at $30$ and $70$ respectively. "
   ]
  },
  {
   "cell_type": "code",
   "execution_count": 13,
   "id": "ff21453b-47a3-4535-8014-61a91e82d55d",
   "metadata": {},
   "outputs": [],
   "source": [
    "RSI_PERIOD = 14 #since we need the difference so we have 14 outputs for a period of 15\n",
    "RSI_OVERBOUGHT = 70\n",
    "RSI_OVERSOLD = 30"
   ]
  },
  {
   "cell_type": "markdown",
   "id": "f438d75a-0df4-4157-81de-10decdb29738",
   "metadata": {},
   "source": [
    "## Defining Required Functions:"
   ]
  },
  {
   "cell_type": "markdown",
   "id": "445b29fa-7b24-43c7-a3d2-c43b7204c4dc",
   "metadata": {},
   "source": [
    "After a lot of back and forth I realised that although the minimum requirement for a trade in ETH at the binance platform is $0.001$, however, the market doesn't allow for dust trades and readjusts for the same. Therefore, some testing showed that the market would accept a trade quantity of $>0.005$. We'll keep soome margin. I quite honestly don't have enough money to spare for that at the moment so we'll simply use the `create_test_order` function instead of the `create_order` function. This will let us test the code without making real trades. We'll now write a function to calculate the RSI for the close prices."
   ]
  },
  {
   "cell_type": "code",
   "execution_count": 14,
   "id": "48432ae8-aedb-485a-9433-ee3a2a4835a5",
   "metadata": {},
   "outputs": [],
   "source": [
    "TRADE_QUANTITY = 0.0055"
   ]
  },
  {
   "cell_type": "code",
   "execution_count": 15,
   "id": "f2a19abd-24e4-44f9-a0d8-1e88468a4908",
   "metadata": {},
   "outputs": [],
   "source": [
    "def calculate_last_rsi():\n",
    "        RSI_list = talib.RSI(np.array(closes))\n",
    "        return RSI_list[-1] "
   ]
  },
  {
   "cell_type": "markdown",
   "id": "6c93bd9b-d2bd-4274-948d-61cf6b247efe",
   "metadata": {},
   "source": [
    "Next we need a function to decide which trade to perform given the RSI conditions. We also don't want to keep taking a position when we already have one or vice versa because, well, I'm not rich! So we create the `decide_trade` function below."
   ]
  },
  {
   "cell_type": "markdown",
   "id": "7a56e919-80a2-4b2e-bd79-fe1f63d1d0b9",
   "metadata": {},
   "source": [
    "We'll need a dummy cariable to keep track of whether or not we have an asset. We can use `in_position` which by default is False. However, this turns true when we buy a share and false again when we sell it. We'll create two other functions to place the order for the trades. We'll place this logic there."
   ]
  },
  {
   "cell_type": "code",
   "execution_count": 26,
   "id": "5f7ff2b0-f099-4336-ad9e-06939e50e84d",
   "metadata": {},
   "outputs": [],
   "source": [
    "in_position = False"
   ]
  },
  {
   "cell_type": "code",
   "execution_count": 17,
   "id": "1abf00f7-cc11-4d8c-9f8b-d28fd9e1312b",
   "metadata": {},
   "outputs": [],
   "source": [
    "def decide_trade(last_rsi):\n",
    "    if last_rsi>RSI_OVERBOUGHT:\n",
    "        if in_position:\n",
    "            print('Sell order in progress:')\n",
    "            sell_order()\n",
    "        else:\n",
    "            print(\"Don't have a position to sell! No trade exectuted at {}.\".format(round(time.time())))\n",
    "            \n",
    "    elif last_rsi<RSI_OVERSOLD:\n",
    "        if in_position:\n",
    "            print('Already bought a position! No trade executed at {}.'.format(round(time.time())))\n",
    "        else:\n",
    "            print('BUY! BUY! BUY!')\n",
    "            buy_order()"
   ]
  },
  {
   "cell_type": "markdown",
   "id": "3aee50e9-f70d-4831-b480-8f9e3cbc9784",
   "metadata": {},
   "source": [
    "We assign the client:"
   ]
  },
  {
   "cell_type": "code",
   "execution_count": 18,
   "id": "b6a94ab2-4b3b-4284-9f2b-b8c76e5e9ec0",
   "metadata": {},
   "outputs": [],
   "source": [
    "client = Client(API_KEY, API_SECRET, tld='com')"
   ]
  },
  {
   "cell_type": "markdown",
   "id": "7a96fa32-5671-48d5-9cce-a4dd9564858c",
   "metadata": {},
   "source": [
    "Now we'll create a function for placing the order for the trade and test run it. As indicated above we'll use the `create_test_order` function to do this."
   ]
  },
  {
   "cell_type": "code",
   "execution_count": 19,
   "id": "2fd58847-a993-4058-aa91-f5ff7c7b0a02",
   "metadata": {},
   "outputs": [
    {
     "name": "stdout",
     "output_type": "stream",
     "text": [
      "Sending order\n"
     ]
    },
    {
     "data": {
      "text/plain": [
       "True"
      ]
     },
     "execution_count": 19,
     "metadata": {},
     "output_type": "execute_result"
    }
   ],
   "source": [
    "def place_order(symbol, side, order_quantity, order_type=ORDER_TYPE_MARKET):\n",
    "    try:\n",
    "        print('Sending order')\n",
    "        order = client.create_test_order(symbol=symbol, side=side, type=order_type, quantity=order_quantity)\n",
    "        return True\n",
    "    except Exception as e:\n",
    "        print('OOPS! Caught an exception: {}'.format(e))\n",
    "        return False\n",
    "place_order(TRADE_SYMBOL, SIDE_BUY, TRADE_QUANTITY)"
   ]
  },
  {
   "cell_type": "markdown",
   "id": "5c3d0ece-4ef6-4615-ae9a-82deddd8f331",
   "metadata": {},
   "source": [
    "Well that works! Now all we need to do is to create a function that gets called when buying and another function that gets called when selling. Below is the code for those two fucntions:"
   ]
  },
  {
   "cell_type": "code",
   "execution_count": 20,
   "id": "07b913ad-8a41-4fb6-b13b-668816e7baa4",
   "metadata": {},
   "outputs": [],
   "source": [
    "def buy_order():\n",
    "    order_succeeded = place_order(TRADE_SYMBOL, SIDE_BUY, TRADE_QUANTITY)\n",
    "    if order_succeeded:\n",
    "        global in_position\n",
    "        in_position = True\n",
    "        print('Order Complete! Bought {} shares at {}'.format(TRADE_QUANTITY, round(time.time())))\n",
    "    else:\n",
    "        print('Order Failed!')\n",
    "        \n",
    "def sell_order():\n",
    "    order_succeeded = place_order(TRADE_SYMBOL, SIDE_SELL, TRADE_QUANTITY)\n",
    "    if order_succeeded:\n",
    "        global in_position\n",
    "        in_position = False\n",
    "        print('Order Complete! Sold {} shares at {}'.format(TRADE_QUANTITY, round(time.time())))\n",
    "    else:\n",
    "        print('Order Failed!')"
   ]
  },
  {
   "cell_type": "markdown",
   "id": "aa29d8de-cace-4fa9-b5f0-16399989bd3c",
   "metadata": {},
   "source": [
    "## Letting the Bot loose:"
   ]
  },
  {
   "cell_type": "code",
   "execution_count": 28,
   "id": "fba44c16-d489-4dd4-8761-b82560217ad3",
   "metadata": {},
   "outputs": [
    {
     "name": "stdout",
     "output_type": "stream",
     "text": [
      "Opened connection\n",
      "Don't have a position to sell! No trade exectuted at 1660656780.\n",
      "BUY! BUY! BUY!\n",
      "Sending order\n",
      "OOPS! Caught an exception: APIError(code=-1021): Timestamp for this request is outside of the recvWindow.\n",
      "Order Failed!\n",
      "BUY! BUY! BUY!\n",
      "Sending order\n",
      "Order Complete! Bought 0.0055 shares at 1660668179\n",
      "Already bought a position! No trade executed at 1660668239.\n",
      "Already bought a position! No trade executed at 1660668299.\n",
      "Sell order in progress:\n",
      "Sending order\n",
      "OOPS! Caught an exception: APIError(code=-1021): Timestamp for this request is outside of the recvWindow.\n",
      "Order Failed!\n",
      "Sell order in progress:\n",
      "Sending order\n",
      "Order Complete! Sold 0.0055 shares at 1660673459\n",
      "BUY! BUY! BUY!\n",
      "Sending order\n",
      "Order Complete! Bought 0.0055 shares at 1660674899\n",
      "Already bought a position! No trade executed at 1660674959.\n",
      "Already bought a position! No trade executed at 1660675019.\n",
      "Already bought a position! No trade executed at 1660675079.\n",
      "Already bought a position! No trade executed at 1660675139.\n",
      "Already bought a position! No trade executed at 1660675199.\n",
      "Already bought a position! No trade executed at 1660675259.\n",
      "Already bought a position! No trade executed at 1660675319.\n",
      "Already bought a position! No trade executed at 1660675378.\n",
      "Already bought a position! No trade executed at 1660675498.\n",
      "Already bought a position! No trade executed at 1660675558.\n",
      "Already bought a position! No trade executed at 1660675618.\n",
      "Already bought a position! No trade executed at 1660675679.\n",
      "Already bought a position! No trade executed at 1660675738.\n",
      "Already bought a position! No trade executed at 1660684799.\n",
      "Already bought a position! No trade executed at 1660684858.\n",
      "Already bought a position! No trade executed at 1660684918.\n",
      "\n",
      "1 minute close prices list is: [1889.88, 1890.4, 1890.9, 1891.71, 1891.84, 1891.67, 1891.04, 1888.53, 1889.48, 1890.36, 1892.56, 1894.0, 1891.99, 1892.37, 1892.0, 1892.64, 1892.48, 1892.2, 1891.24, 1888.95, 1891.35, 1892.55, 1892.49, 1891.66, 1891.86, 1890.57, 1890.82, 1889.5, 1889.86, 1888.41, 1889.32, 1890.97, 1894.19, 1899.25, 1897.78, 1896.79, 1900.61, 1899.04, 1892.87, 1887.49, 1890.38, 1881.83, 1884.31, 1888.83, 1887.73, 1887.29, 1884.0, 1884.7, 1885.0, 1883.2, 1876.73, 1878.92, 1879.61, 1880.74, 1882.01, 1881.5, 1881.52, 1883.27, 1884.5, 1883.49, 1881.43, 1877.97, 1875.3, 1877.34, 1877.58, 1878.87, 1877.38, 1880.01, 1880.46, 1880.21, 1877.72, 1879.23, 1879.59, 1876.32, 1874.9, 1873.61, 1872.45, 1873.55, 1870.0, 1873.81, 1879.18, 1882.93, 1883.41, 1881.99, 1883.54, 1881.52, 1878.83, 1876.81, 1876.54, 1878.01, 1876.52, 1876.06, 1871.77, 1872.01, 1869.75, 1866.51, 1868.71, 1870.17, 1868.65, 1870.32, 1872.07, 1873.0, 1873.96, 1877.24, 1875.74, 1874.16, 1871.36, 1873.48, 1875.58, 1874.01, 1874.29, 1876.69, 1877.79, 1876.33, 1876.93, 1874.85, 1876.69, 1876.7, 1874.13, 1875.34, 1874.14, 1874.75, 1875.57, 1876.21, 1874.88, 1870.41, 1871.95, 1871.94, 1875.11, 1876.63, 1874.51, 1875.0, 1876.32, 1880.01, 1880.5, 1879.66, 1879.34, 1881.65, 1884.18, 1882.58, 1885.64, 1885.26, 1883.23, 1882.85, 1882.44, 1881.37, 1879.88, 1883.17, 1882.5, 1882.5, 1883.28, 1885.49, 1886.89, 1886.56, 1885.46, 1886.04, 1886.98, 1885.63, 1886.31, 1886.69, 1887.02, 1885.76, 1885.01, 1885.22, 1887.25, 1886.5, 1885.56, 1886.45, 1889.39, 1889.89, 1888.63, 1888.66, 1887.53, 1888.32, 1886.13, 1889.09, 1887.62, 1889.26, 1887.66, 1886.51, 1887.38, 1887.39, 1888.52, 1886.49, 1883.93, 1883.58, 1884.09, 1886.1, 1885.51, 1884.12, 1885.17, 1885.38, 1882.31, 1883.0, 1885.31, 1884.41, 1886.01, 1884.64, 1881.06, 1879.44, 1883.34, 1882.71, 1883.0, 1883.5, 1884.64, 1884.68, 1883.08, 1881.8, 1883.29, 1881.94, 1880.51, 1881.23, 1882.48, 1883.48, 1882.69, 1880.95, 1880.61, 1880.98, 1877.34, 1877.5, 1874.99, 1874.39, 1874.94, 1872.59, 1870.86, 1868.18, 1872.36, 1869.29, 1867.99, 1868.21, 1869.14, 1870.0, 1871.93, 1875.3, 1873.92, 1875.34, 1877.87, 1879.77, 1880.73, 1881.89, 1880.37, 1879.03, 1882.91, 1880.86, 1880.31, 1880.59, 1882.6, 1883.59, 1883.24, 1884.09, 1884.51, 1882.03, 1881.03, 1878.37, 1879.48, 1879.37, 1876.62, 1878.94, 1879.99, 1880.7, 1878.52, 1878.55, 1877.02, 1876.81, 1875.61, 1876.17, 1873.51, 1872.57, 1873.16, 1872.89, 1872.73, 1870.84, 1873.43, 1874.26, 1875.86, 1875.57, 1874.99, 1878.34, 1880.97, 1882.2, 1881.97, 1879.84, 1879.69, 1877.51, 1876.8, 1875.38, 1877.41, 1876.28, 1874.48, 1877.8, 1880.83, 1879.01, 1878.21, 1877.01, 1876.11, 1876.04, 1877.49, 1878.44, 1876.89, 1878.17, 1878.18, 1878.34, 1880.62, 1881.72, 1880.26, 1879.1, 1881.49, 1881.39, 1881.18, 1886.96, 1893.78, 1892.86, 1890.59, 1890.6, 1891.98, 1889.53, 1889.96, 1894.49, 1893.5, 1895.53, 1894.86, 1895.17, 1893.1, 1892.85, 1891.92, 1892.05, 1890.15, 1889.58, 1889.64, 1886.56, 1886.76, 1885.0, 1883.92, 1883.94, 1882.4, 1878.57, 1875.25, 1871.35, 1871.27, 1866.8, 1868.3, 1868.92, 1867.4, 1869.69, 1871.4, 1867.44, 1862.41, 1853.4, 1858.19, 1857.24, 1861.47, 1859.0, 1863.35, 1863.39, 1866.49, 1866.76, 1867.66, 1873.6, 1872.09, 1871.99, 1870.91, 1870.84, 1873.34, 1868.6, 1869.5, 1867.56, 1871.13, 1875.27, 1875.21, 1874.0, 1872.02, 1872.5, 1873.08, 1874.54, 1875.57, 1874.36, 1873.48, 1875.68, 1874.82, 1875.46, 1876.18, 1875.2, 1873.69, 1871.97, 1873.55, 1873.15, 1874.94, 1876.35, 1876.59, 1878.59, 1878.42, 1878.83, 1878.5, 1878.37, 1876.91, 1876.15, 1877.12, 1875.74, 1875.27, 1875.5, 1875.0, 1876.8, 1875.73, 1875.0, 1873.79, 1874.42, 1876.41, 1878.97, 1879.99, 1879.29, 1879.53, 1877.57, 1877.26, 1878.99, 1877.77, 1878.11, 1876.37, 1877.41, 1879.79, 1879.46, 1879.34, 1878.22, 1877.08, 1877.39, 1876.47, 1878.16, 1879.82, 1881.24, 1882.34, 1883.76, 1883.37, 1881.78, 1883.08, 1883.36, 1883.89, 1882.0, 1880.67, 1880.52, 1880.28, 1879.76, 1880.08, 1878.75, 1879.16, 1879.98, 1881.91, 1881.21, 1881.52, 1880.04, 1879.64, 1881.42, 1880.81, 1881.12, 1881.91, 1882.47, 1882.15, 1883.0, 1882.46, 1883.83, 1885.71, 1883.83, 1883.92, 1884.67, 1883.34, 1882.17, 1882.05, 1880.54, 1880.17, 1878.19, 1877.78, 1878.16, 1879.42, 1878.95, 1882.79, 1883.32, 1882.43, 1884.49, 1885.98, 1885.09, 1882.8, 1883.97, 1884.53, 1884.8, 1884.73, 1884.86, 1884.42, 1884.82, 1883.75, 1882.52, 1881.54, 1882.61, 1882.2, 1882.99, 1882.71, 1882.43, 1882.01, 1882.19, 1881.51, 1879.94, 1879.92, 1879.21, 1877.07, 1876.34, 1873.66, 1876.07, 1874.51, 1875.12, 1875.19, 1874.9, 1879.49, 1879.22, 1880.74, 1881.49, 1882.0, 1882.18, 1880.14, 1879.11, 1879.26, 1880.49, 1880.49, 1879.63, 1879.95, 1879.99, 1878.01, 1877.76, 1877.5, 1877.79, 1878.07, 1876.57, 1876.05, 1874.97, 1877.44, 1877.33, 1877.74, 1877.46, 1880.0, 1878.95, 1877.15, 1878.27, 1878.94, 1879.86, 1879.76, 1879.52, 1879.66, 1875.95, 1875.81, 1875.8, 1874.35, 1875.07, 1873.0, 1873.27, 1875.74, 1876.0, 1876.68, 1877.13, 1875.22, 1876.34, 1875.0, 1873.49, 1873.11, 1872.1, 1872.98, 1871.69, 1871.86, 1873.28, 1872.13, 1872.87, 1871.27, 1872.22, 1871.44, 1872.78, 1874.27, 1873.31, 1871.98, 1868.47, 1868.51, 1868.28, 1868.08, 1868.78, 1867.42, 1869.18, 1873.85, 1873.13, 1873.12, 1873.05, 1873.65, 1875.23, 1876.87, 1874.63, 1875.08, 1873.6, 1873.46, 1873.98, 1873.63, 1874.96, 1875.5, 1876.19, 1875.88, 1875.15, 1875.49, 1873.8, 1871.87, 1869.6, 1871.0, 1873.09, 1872.97, 1872.81, 1872.31, 1873.28, 1873.99, 1876.57, 1878.78, 1877.87, 1877.81, 1874.5, 1875.09, 1874.78, 1875.84, 1877.41, 1878.58, 1876.84, 1875.31, 1875.12, 1876.32, 1877.04, 1877.69, 1877.46, 1874.12, 1873.5, 1872.1, 1873.78, 1873.82, 1875.3, 1875.72, 1874.69, 1873.03, 1872.06, 1870.01, 1870.8, 1871.36, 1873.72, 1877.66, 1877.5, 1876.89, 1876.34, 1875.68, 1873.76, 1875.0, 1875.44, 1878.2, 1878.57, 1879.19]\n",
      "Closed connection which ran for: 10 hours, 51 minutes, and 21 seconds\n"
     ]
    },
    {
     "data": {
      "text/plain": [
       "False"
      ]
     },
     "execution_count": 28,
     "metadata": {},
     "output_type": "execute_result"
    }
   ],
   "source": [
    "ws = websocket.WebSocketApp(SOCKET, on_open=on_open, on_message=on_message, on_error=on_error, on_close=on_close)\n",
    "ws.run_forever()"
   ]
  },
  {
   "cell_type": "markdown",
   "id": "8ca51dc9-895a-4b7b-a95a-b77487838aca",
   "metadata": {},
   "source": [
    "## Conclusions"
   ]
  },
  {
   "cell_type": "markdown",
   "id": "0ec28769-9cca-42a6-835e-fe9fc894eb65",
   "metadata": {},
   "source": [
    "This project was all about how to use websockets and implement a basic trading bot at the exspense of being laughed at by quants for using Technical analysis. However, it certainly made me aware of the possible errors that I may face during a real live implementation of a trading bot."
   ]
  }
 ],
 "metadata": {
  "kernelspec": {
   "display_name": "Python 3",
   "language": "python",
   "name": "python3"
  },
  "language_info": {
   "codemirror_mode": {
    "name": "ipython",
    "version": 3
   },
   "file_extension": ".py",
   "mimetype": "text/x-python",
   "name": "python",
   "nbconvert_exporter": "python",
   "pygments_lexer": "ipython3",
   "version": "3.6.5"
  }
 },
 "nbformat": 4,
 "nbformat_minor": 5
}
